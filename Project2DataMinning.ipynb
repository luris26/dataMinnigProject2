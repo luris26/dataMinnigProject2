{
  "nbformat": 4,
  "nbformat_minor": 0,
  "metadata": {
    "colab": {
      "provenance": []
    },
    "kernelspec": {
      "name": "python3",
      "display_name": "Python 3"
    },
    "language_info": {
      "name": "python"
    }
  },
  "cells": [
    {
      "cell_type": "code",
      "source": [
        "import pandas as pd\n",
        "import numpy as np\n",
        "\n",
        "url = \"https://raw.githubusercontent.com/drolsonmi/math3280/master/Projects/GameOfThrones1.csv\"\n",
        "df = pd.read_csv(url)\n",
        "\n",
        "# Create a list of unique nodes (characters)\n",
        "unique_characters = pd.unique(df[['Source', 'Target']].values.ravel('K'))\n",
        "\n",
        "# Create a square transition matrix\n",
        "transition_matrix = df.pivot_table(index='Source', columns='Target', values='weight', aggfunc='sum', fill_value=0)\n",
        "transition_matrix = transition_matrix.reindex(index=unique_characters, columns=unique_characters, fill_value=0)\n",
        "N = len(unique_characters)\n",
        "\n",
        "v = np.ones((N, 1)) / N\n",
        "e = np.ones((N, 1))\n",
        "\n",
        "beta = 0.8\n",
        "\n",
        "# Number of iterations\n",
        "iterations = 20\n",
        "\n",
        "# Web surfer steps\n",
        "for i in range(iterations):\n",
        "    v = beta * np.dot(transition_matrix, v) + (1 - beta) * (e / N)\n",
        "\n",
        "# Find the character with the highest PageRank score\n",
        "most_important_character_index = np.argmax(v)\n",
        "most_important_character = unique_characters[most_important_character_index]\n",
        "\n",
        "# Print the most important character and their PageRank score\n",
        "print(f\"The most important character is '{most_important_character}' with a PageRank score of {v[most_important_character_index][0]:.4f}\")\n"
      ],
      "metadata": {
        "colab": {
          "base_uri": "https://localhost:8080/"
        },
        "id": "VLswxXHAk-zd",
        "outputId": "503f96d1-ed4a-4584-b6d7-ef65e8968e25"
      },
      "execution_count": 46,
      "outputs": [
        {
          "output_type": "stream",
          "name": "stdout",
          "text": [
            "The most important character is 'Arya-Stark' with a PageRank score of 37266328399037448.0000\n"
          ]
        }
      ]
    },
    {
      "cell_type": "code",
      "source": [
        "#Dead Ends\n",
        "for i in range(60):\n",
        "    v = np.matmul(transition_matrix, v)\n",
        "    #print(v)"
      ],
      "metadata": {
        "colab": {
          "base_uri": "https://localhost:8080/"
        },
        "id": "WlYF8mkOy3wT",
        "outputId": "6fc73cd3-55f4-493c-b82f-2a2b3e580a54"
      },
      "execution_count": 45,
      "outputs": [
        {
          "output_type": "stream",
          "name": "stderr",
          "text": [
            "<ipython-input-45-c6ea7e19119e>:3: FutureWarning: Calling a ufunc on non-aligned DataFrames (or DataFrame/Series combination). Currently, the indices are ignored and the result takes the index/columns of the first DataFrame. In the future , the DataFrames/Series will be aligned before applying the ufunc.\n",
            "Convert one of the arguments to a NumPy array (eg 'ufunc(df1, np.asarray(df2)') to keep the current behaviour, or align manually (eg 'df1, df2 = df1.align(df2)') before passing to the ufunc to obtain the future behaviour and silence this warning.\n",
            "  v = np.matmul(transition_matrix, v)\n"
          ]
        }
      ]
    },
    {
      "cell_type": "code",
      "source": [
        "#Spider traps\n",
        "for i in range(60):\n",
        "    v = np.matmul(transition_matrix, v)\n",
        "   #print(v)"
      ],
      "metadata": {
        "colab": {
          "base_uri": "https://localhost:8080/"
        },
        "id": "aoBmZcVx4Gwe",
        "outputId": "4a6461e1-0c74-4092-cc6f-6c4afd94e08c"
      },
      "execution_count": 44,
      "outputs": [
        {
          "output_type": "stream",
          "name": "stderr",
          "text": [
            "<ipython-input-44-041bd72892a1>:3: FutureWarning: Calling a ufunc on non-aligned DataFrames (or DataFrame/Series combination). Currently, the indices are ignored and the result takes the index/columns of the first DataFrame. In the future , the DataFrames/Series will be aligned before applying the ufunc.\n",
            "Convert one of the arguments to a NumPy array (eg 'ufunc(df1, np.asarray(df2)') to keep the current behaviour, or align manually (eg 'df1, df2 = df1.align(df2)') before passing to the ufunc to obtain the future behaviour and silence this warning.\n",
            "  v = np.matmul(transition_matrix, v)\n"
          ]
        }
      ]
    }
  ]
}